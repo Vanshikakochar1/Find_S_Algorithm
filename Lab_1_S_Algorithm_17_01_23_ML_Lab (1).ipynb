{
  "nbformat": 4,
  "nbformat_minor": 0,
  "metadata": {
    "colab": {
      "provenance": []
    },
    "kernelspec": {
      "name": "python3",
      "display_name": "Python 3"
    },
    "language_info": {
      "name": "python"
    }
  },
  "cells": [
    {
      "cell_type": "code",
      "execution_count": null,
      "metadata": {
        "id": "ODZze4A0PPXg"
      },
      "outputs": [],
      "source": [
        "import pandas as pd \n",
        "# use for reading the dataset \n",
        "import numpy as np\n",
        "# use for support of multidimensional array"
      ]
    },
    {
      "cell_type": "code",
      "source": [
        "d1 = pd.read_csv(\"/content/weather dataset.csv\") \n",
        "# loading the dataset in d1 \n",
        "print(d1)\n",
        "# printing the dataset"
      ],
      "metadata": {
        "colab": {
          "base_uri": "https://localhost:8080/"
        },
        "id": "3HItvw2mPbQl",
        "outputId": "35880c18-afb6-487f-988f-fac71b1d3b77"
      },
      "execution_count": null,
      "outputs": [
        {
          "output_type": "stream",
          "name": "stdout",
          "text": [
            "      Time Weather Temperature Company Humidity    Wind Goes\n",
            "0  Morning   Sunny        Warm     Yes     Mild  Strong  Yes\n",
            "1  Evening   Rainy        Cold      No     Mild  Normal   No\n",
            "2  Morning   Sunny    Moderate     Yes   Normal  Normal  Yes\n",
            "3  Evening   Sunny        Cold     Yes     High  Strong  Yes\n"
          ]
        }
      ]
    },
    {
      "cell_type": "code",
      "source": [
        "data = np.array(d1)[:,:-1] \n",
        "# all rows and all columns except last column (-1)\n",
        "# whereas [:,:] this means all rows and all columns\n",
        "print(\"The attributes are:\",data)\n",
        "# printing the data except last column --- concepts"
      ],
      "metadata": {
        "colab": {
          "base_uri": "https://localhost:8080/"
        },
        "id": "ymZYYv1MPk1J",
        "outputId": "1ef04850-6307-4f98-ff97-96e1edcfe02d"
      },
      "execution_count": null,
      "outputs": [
        {
          "output_type": "stream",
          "name": "stdout",
          "text": [
            "The attributes are: [['Morning' 'Sunny' 'Warm' 'Yes' 'Mild' 'Strong']\n",
            " ['Evening' 'Rainy' 'Cold' 'No' 'Mild' 'Normal']\n",
            " ['Morning' 'Sunny' 'Moderate' 'Yes' 'Normal' 'Normal']\n",
            " ['Evening' 'Sunny' 'Cold' 'Yes' 'High' 'Strong']]\n"
          ]
        }
      ]
    },
    {
      "cell_type": "code",
      "source": [
        "target = np.array(d1)[:,-1]\n",
        "# all rows and only the last column beacuse indexing starts from -1 from the last\n",
        "print(\"The target class is :\",target)\n",
        "# printing the last column that is goes --- target"
      ],
      "metadata": {
        "colab": {
          "base_uri": "https://localhost:8080/"
        },
        "id": "JyUFf8TjQgYR",
        "outputId": "86e1f5fc-bec4-470f-b811-c61745beeab9"
      },
      "execution_count": null,
      "outputs": [
        {
          "output_type": "stream",
          "name": "stdout",
          "text": [
            "The target class is : ['Yes' 'No' 'Yes' 'Yes']\n"
          ]
        }
      ]
    },
    {
      "cell_type": "code",
      "source": [
        "# enumrate make it easy to count the no of iteration\n",
        "# training the S algorithm\n",
        "# first iteration- last column value is yes then it will include it in the hypothesis\n",
        "\n",
        "# function \"training\" is defined with arguments c and t\n",
        "def training(c,t):\n",
        "  for i,val in enumerate(t): # this will help to check last column y,n,y,y\n",
        "    if val == \"Yes\": # check condition if the value is yes\n",
        "      spe_hypothesis = c[i].copy() # copy the value of concept[i] in specific hypothesis to allocate memeory\n",
        "      # if not use copy it will just create a reference \n",
        "      break;\n",
        "\n",
        "# second iteration - if value is same then pass if not then put ? \n",
        "  for i,val in enumerate(c): # enumerate in concepts \n",
        "    if t[i] == \"Yes\": # if target is yes\n",
        "      for x in range(len(spe_hypothesis)): # check in length of specific hypothesis\n",
        "        if val[x]  != spe_hypothesis[x]: # if values are different i.e warm != cold \n",
        "          spe_hypothesis[x] = '?' # then replace ?\n",
        "        else:\n",
        "          pass # else keep the value same\n",
        "  return spe_hypothesis # returning specific hypothesis\n",
        "\n",
        "# print (training(data,target))\n",
        "print(\"n The final hypothesis is:\",training(data,target))\n",
        "    \n"
      ],
      "metadata": {
        "colab": {
          "base_uri": "https://localhost:8080/"
        },
        "id": "76C4in-GRS8O",
        "outputId": "6c17f09e-4eaa-492b-c82b-612e868b5d5c"
      },
      "execution_count": null,
      "outputs": [
        {
          "output_type": "stream",
          "name": "stdout",
          "text": [
            "n The final hypothesis is: ['?' 'Sunny' '?' 'Yes' '?' '?']\n"
          ]
        }
      ]
    },
    {
      "cell_type": "code",
      "source": [],
      "metadata": {
        "id": "28Rui2uKUxvt"
      },
      "execution_count": null,
      "outputs": []
    }
  ]
}